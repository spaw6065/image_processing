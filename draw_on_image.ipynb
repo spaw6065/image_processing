{
 "cells": [
  {
   "cell_type": "code",
   "execution_count": 1,
   "metadata": {},
   "outputs": [],
   "source": [
    "import cv2\n",
    "import numpy as np"
   ]
  },
  {
   "cell_type": "code",
   "execution_count": 35,
   "metadata": {},
   "outputs": [],
   "source": [
    "img = cv2.imread(\"C:/Users/sumit-pawar/Projects/Learnings_Docs/Data_Projects_Learnings/image_processing/images/watch.jpg\", cv2.IMREAD_ANYCOLOR)\n",
    "cv2.line(img,(0,0),(25,25),(0,198,198),20,1)\n",
    "cv2.rectangle(img,(250,250),(50,50),(0,198,198),2)\n",
    "cv2.circle(img,(150,90),50,(198,198,198),22)\n",
    "\n",
    "\n",
    "cv2.putText(img,\"Hello Open CV\",(0,120),1,2.0,(0,0,255),8)\n",
    "cv2.imshow('image.jpg',img)\n",
    "\n",
    "cv2.waitKey(0)\n",
    "cv2.destroyAllWindows()"
   ]
  }
 ],
 "metadata": {
  "kernelspec": {
   "display_name": "Python 3",
   "language": "python",
   "name": "python3"
  },
  "language_info": {
   "codemirror_mode": {
    "name": "ipython",
    "version": 3
   },
   "file_extension": ".py",
   "mimetype": "text/x-python",
   "name": "python",
   "nbconvert_exporter": "python",
   "pygments_lexer": "ipython3",
   "version": "3.10.6"
  },
  "orig_nbformat": 4
 },
 "nbformat": 4,
 "nbformat_minor": 2
}
